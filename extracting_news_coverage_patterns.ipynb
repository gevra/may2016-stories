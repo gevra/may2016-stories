{
 "cells": [
  {
   "cell_type": "markdown",
   "metadata": {},
   "source": [
    "# Info"
   ]
  },
  {
   "cell_type": "markdown",
   "metadata": {},
   "source": [
    "This code is extracting and visualizing news stories from a set of news articles. \n",
    "\n",
    "The data and the code are supplements to \"Real-time News Story Detection and Tracking with Hashtags\" paper by Gevorg Poghosyan and Georgiana Ifrim presented at the second Workshop on Computing News Storylines co-located with  EMNLP 2016.\n",
    "The paper is available for downloading here http://aclweb.org/anthology/W/W16/W16-5703.pdf .\n",
    "The data and the code can be found here https://github.com/gevra/may2016-stories .\n",
    "\n",
    "The script requires the Eclat implementation by Christian Borgelt, which can be found here http://www.borgelt.net/eclat.html .\n",
    "\n",
    "For queries, contact gevorg.poghosyan@insight-centre.org"
   ]
  },
  {
   "cell_type": "markdown",
   "metadata": {},
   "source": [
    "# Initialize and specify the story"
   ]
  },
  {
   "cell_type": "code",
   "execution_count": 1,
   "metadata": {
    "collapsed": false
   },
   "outputs": [],
   "source": [
    "import sys\n",
    "import re\n",
    "import os.path\n",
    "import pickle\n",
    "import itertools\n",
    "import time\n",
    "import datetime\n",
    "import json\n",
    "import pandas as pd\n",
    "import numpy as np\n",
    "import multiprocessing as mp\n",
    "import pylab as pl\n",
    "import matplotlib.pyplot as plt\n",
    "import matplotlib\n",
    "%matplotlib inline\n",
    "matplotlib.style.use('ggplot')\n",
    "# import mpld3\n",
    "# mpld3.enable_notebook()\n",
    "from pytz import timezone\n",
    "dublin_time = timezone('Europe/Dublin')\n",
    "\n",
    "# from IPython.core.display import Javascript, HTML, display"
   ]
  },
  {
   "cell_type": "code",
   "execution_count": 2,
   "metadata": {
    "collapsed": false
   },
   "outputs": [],
   "source": [
    "csv_file_name = 'articles_2016.05.01-2016.05.31'"
   ]
  },
  {
   "cell_type": "markdown",
   "metadata": {},
   "source": [
    "## Retrieve the articles"
   ]
  },
  {
   "cell_type": "markdown",
   "metadata": {},
   "source": [
    "### Put articles in a pandas dataframe"
   ]
  },
  {
   "cell_type": "code",
   "execution_count": 3,
   "metadata": {
    "collapsed": false
   },
   "outputs": [],
   "source": [
    "articles_searched_df = pd.read_csv(csv_file_name + \".csv\", sep=\",\", header=0, index_col=0)"
   ]
  },
  {
   "cell_type": "code",
   "execution_count": 4,
   "metadata": {
    "collapsed": false
   },
   "outputs": [
    {
     "name": "stdout",
     "output_type": "stream",
     "text": [
      "(21816, 9)\n"
     ]
    },
    {
     "data": {
      "text/html": [
       "<div>\n",
       "<table border=\"1\" class=\"dataframe\">\n",
       "  <thead>\n",
       "    <tr style=\"text-align: right;\">\n",
       "      <th></th>\n",
       "      <th>article_id</th>\n",
       "      <th>headline</th>\n",
       "      <th>datetime</th>\n",
       "      <th>source</th>\n",
       "      <th>keywords</th>\n",
       "      <th>havehashtag</th>\n",
       "      <th>numbertweets</th>\n",
       "      <th>all_hashtags</th>\n",
       "      <th>n_hashtags</th>\n",
       "    </tr>\n",
       "  </thead>\n",
       "  <tbody>\n",
       "    <tr>\n",
       "      <th>0</th>\n",
       "      <td>243131</td>\n",
       "      <td>If you die in Sweden, it's a month before you ...</td>\n",
       "      <td>2016-05-27T14:38:21+00:00</td>\n",
       "      <td>TheJournal</td>\n",
       "      <td>sweden, don’t leave, swedes, month, moller</td>\n",
       "      <td>False</td>\n",
       "      <td>0</td>\n",
       "      <td>[]</td>\n",
       "      <td>0</td>\n",
       "    </tr>\n",
       "    <tr>\n",
       "      <th>1</th>\n",
       "      <td>236027</td>\n",
       "      <td>Senators introduce bill to block expansion of ...</td>\n",
       "      <td>2016-05-19T15:14:00+00:00</td>\n",
       "      <td>Reuters</td>\n",
       "      <td>thursday, washington a, change, fbi’s, fbi</td>\n",
       "      <td>False</td>\n",
       "      <td>41</td>\n",
       "      <td>[]</td>\n",
       "      <td>0</td>\n",
       "    </tr>\n",
       "    <tr>\n",
       "      <th>2</th>\n",
       "      <td>235969</td>\n",
       "      <td>ECB frustrated over governments' delay on reforms</td>\n",
       "      <td>2016-05-19T13:49:20+00:00</td>\n",
       "      <td>RTÉ</td>\n",
       "      <td>april, reforms, governments, central bank, ecb</td>\n",
       "      <td>True</td>\n",
       "      <td>50</td>\n",
       "      <td>['#in', '#ecb']</td>\n",
       "      <td>2</td>\n",
       "    </tr>\n",
       "    <tr>\n",
       "      <th>3</th>\n",
       "      <td>235694</td>\n",
       "      <td>Missing passenger plane has crashed, say Egypt...</td>\n",
       "      <td>2016-05-19T05:21:00+00:00</td>\n",
       "      <td>Independent</td>\n",
       "      <td>egyptair, plane, paris, mediterranean, radar</td>\n",
       "      <td>True</td>\n",
       "      <td>63577</td>\n",
       "      <td>['#egyptair']</td>\n",
       "      <td>1</td>\n",
       "    </tr>\n",
       "    <tr>\n",
       "      <th>4</th>\n",
       "      <td>235972</td>\n",
       "      <td>BBC Sport</td>\n",
       "      <td>2016-05-19T13:59:49.902102+00:00</td>\n",
       "      <td>BBC</td>\n",
       "      <td>bbc sport, dr tony xia, new aston villa, chels...</td>\n",
       "      <td>True</td>\n",
       "      <td>3209</td>\n",
       "      <td>['#avfc']</td>\n",
       "      <td>1</td>\n",
       "    </tr>\n",
       "  </tbody>\n",
       "</table>\n",
       "</div>"
      ],
      "text/plain": [
       "   article_id                                           headline  \\\n",
       "0      243131  If you die in Sweden, it's a month before you ...   \n",
       "1      236027  Senators introduce bill to block expansion of ...   \n",
       "2      235969  ECB frustrated over governments' delay on reforms   \n",
       "3      235694  Missing passenger plane has crashed, say Egypt...   \n",
       "4      235972                                          BBC Sport   \n",
       "\n",
       "                           datetime       source  \\\n",
       "0         2016-05-27T14:38:21+00:00   TheJournal   \n",
       "1         2016-05-19T15:14:00+00:00      Reuters   \n",
       "2         2016-05-19T13:49:20+00:00          RTÉ   \n",
       "3         2016-05-19T05:21:00+00:00  Independent   \n",
       "4  2016-05-19T13:59:49.902102+00:00          BBC   \n",
       "\n",
       "                                            keywords havehashtag  \\\n",
       "0         sweden, don’t leave, swedes, month, moller       False   \n",
       "1         thursday, washington a, change, fbi’s, fbi       False   \n",
       "2     april, reforms, governments, central bank, ecb        True   \n",
       "3       egyptair, plane, paris, mediterranean, radar        True   \n",
       "4  bbc sport, dr tony xia, new aston villa, chels...        True   \n",
       "\n",
       "   numbertweets     all_hashtags  n_hashtags  \n",
       "0             0               []           0  \n",
       "1            41               []           0  \n",
       "2            50  ['#in', '#ecb']           2  \n",
       "3         63577    ['#egyptair']           1  \n",
       "4          3209        ['#avfc']           1  "
      ]
     },
     "execution_count": 4,
     "metadata": {},
     "output_type": "execute_result"
    }
   ],
   "source": [
    "print(articles_searched_df.shape)\n",
    "articles_searched_df.head()"
   ]
  },
  {
   "cell_type": "code",
   "execution_count": 5,
   "metadata": {
    "collapsed": false
   },
   "outputs": [
    {
     "data": {
      "text/plain": [
       "article_id       int64\n",
       "headline        object\n",
       "datetime        object\n",
       "source          object\n",
       "keywords        object\n",
       "havehashtag       bool\n",
       "numbertweets     int64\n",
       "all_hashtags    object\n",
       "n_hashtags       int64\n",
       "dtype: object"
      ]
     },
     "execution_count": 5,
     "metadata": {},
     "output_type": "execute_result"
    }
   ],
   "source": [
    "articles_searched_df.dtypes"
   ]
  },
  {
   "cell_type": "code",
   "execution_count": 6,
   "metadata": {
    "collapsed": false
   },
   "outputs": [
    {
     "data": {
      "text/plain": [
       "list"
      ]
     },
     "execution_count": 6,
     "metadata": {},
     "output_type": "execute_result"
    }
   ],
   "source": [
    "if not isinstance(articles_searched_df.iloc[-1]['all_hashtags'], list) :\n",
    "    articles_searched_df['all_hashtags'] = articles_searched_df['all_hashtags'].map(lambda x: eval(x))\n",
    "type(articles_searched_df.iloc[-1]['all_hashtags'])"
   ]
  },
  {
   "cell_type": "code",
   "execution_count": 7,
   "metadata": {
    "collapsed": false
   },
   "outputs": [
    {
     "data": {
      "text/html": [
       "<div>\n",
       "<table border=\"1\" class=\"dataframe\">\n",
       "  <thead>\n",
       "    <tr style=\"text-align: right;\">\n",
       "      <th></th>\n",
       "      <th>article_id</th>\n",
       "      <th>headline</th>\n",
       "      <th>datetime</th>\n",
       "      <th>source</th>\n",
       "      <th>keywords</th>\n",
       "      <th>havehashtag</th>\n",
       "      <th>numbertweets</th>\n",
       "      <th>all_hashtags</th>\n",
       "      <th>n_hashtags</th>\n",
       "    </tr>\n",
       "  </thead>\n",
       "  <tbody>\n",
       "    <tr>\n",
       "      <th>0</th>\n",
       "      <td>243131</td>\n",
       "      <td>If you die in Sweden, it's a month before you ...</td>\n",
       "      <td>2016-05-27T14:38:21+00:00</td>\n",
       "      <td>TheJournal</td>\n",
       "      <td>sweden, don’t leave, swedes, month, moller</td>\n",
       "      <td>False</td>\n",
       "      <td>0</td>\n",
       "      <td>[]</td>\n",
       "      <td>0</td>\n",
       "    </tr>\n",
       "    <tr>\n",
       "      <th>1</th>\n",
       "      <td>236027</td>\n",
       "      <td>Senators introduce bill to block expansion of ...</td>\n",
       "      <td>2016-05-19T15:14:00+00:00</td>\n",
       "      <td>Reuters</td>\n",
       "      <td>thursday, washington a, change, fbi’s, fbi</td>\n",
       "      <td>False</td>\n",
       "      <td>41</td>\n",
       "      <td>[]</td>\n",
       "      <td>0</td>\n",
       "    </tr>\n",
       "    <tr>\n",
       "      <th>2</th>\n",
       "      <td>235969</td>\n",
       "      <td>ECB frustrated over governments' delay on reforms</td>\n",
       "      <td>2016-05-19T13:49:20+00:00</td>\n",
       "      <td>RTÉ</td>\n",
       "      <td>april, reforms, governments, central bank, ecb</td>\n",
       "      <td>True</td>\n",
       "      <td>50</td>\n",
       "      <td>[#in, #ecb]</td>\n",
       "      <td>2</td>\n",
       "    </tr>\n",
       "    <tr>\n",
       "      <th>3</th>\n",
       "      <td>235694</td>\n",
       "      <td>Missing passenger plane has crashed, say Egypt...</td>\n",
       "      <td>2016-05-19T05:21:00+00:00</td>\n",
       "      <td>Independent</td>\n",
       "      <td>egyptair, plane, paris, mediterranean, radar</td>\n",
       "      <td>True</td>\n",
       "      <td>63577</td>\n",
       "      <td>[#egyptair]</td>\n",
       "      <td>1</td>\n",
       "    </tr>\n",
       "    <tr>\n",
       "      <th>4</th>\n",
       "      <td>235972</td>\n",
       "      <td>BBC Sport</td>\n",
       "      <td>2016-05-19T13:59:49.902102+00:00</td>\n",
       "      <td>BBC</td>\n",
       "      <td>bbc sport, dr tony xia, new aston villa, chels...</td>\n",
       "      <td>True</td>\n",
       "      <td>3209</td>\n",
       "      <td>[#avfc]</td>\n",
       "      <td>1</td>\n",
       "    </tr>\n",
       "  </tbody>\n",
       "</table>\n",
       "</div>"
      ],
      "text/plain": [
       "   article_id                                           headline  \\\n",
       "0      243131  If you die in Sweden, it's a month before you ...   \n",
       "1      236027  Senators introduce bill to block expansion of ...   \n",
       "2      235969  ECB frustrated over governments' delay on reforms   \n",
       "3      235694  Missing passenger plane has crashed, say Egypt...   \n",
       "4      235972                                          BBC Sport   \n",
       "\n",
       "                           datetime       source  \\\n",
       "0         2016-05-27T14:38:21+00:00   TheJournal   \n",
       "1         2016-05-19T15:14:00+00:00      Reuters   \n",
       "2         2016-05-19T13:49:20+00:00          RTÉ   \n",
       "3         2016-05-19T05:21:00+00:00  Independent   \n",
       "4  2016-05-19T13:59:49.902102+00:00          BBC   \n",
       "\n",
       "                                            keywords havehashtag  \\\n",
       "0         sweden, don’t leave, swedes, month, moller       False   \n",
       "1         thursday, washington a, change, fbi’s, fbi       False   \n",
       "2     april, reforms, governments, central bank, ecb        True   \n",
       "3       egyptair, plane, paris, mediterranean, radar        True   \n",
       "4  bbc sport, dr tony xia, new aston villa, chels...        True   \n",
       "\n",
       "   numbertweets all_hashtags  n_hashtags  \n",
       "0             0           []           0  \n",
       "1            41           []           0  \n",
       "2            50  [#in, #ecb]           2  \n",
       "3         63577  [#egyptair]           1  \n",
       "4          3209      [#avfc]           1  "
      ]
     },
     "execution_count": 7,
     "metadata": {},
     "output_type": "execute_result"
    }
   ],
   "source": [
    "count_tags_func = lambda x: len(x)\n",
    "articles_searched_df['n_hashtags'] = articles_searched_df['all_hashtags'].map(count_tags_func)\n",
    "articles_searched_df.head()"
   ]
  },
  {
   "cell_type": "code",
   "execution_count": 8,
   "metadata": {
    "collapsed": false
   },
   "outputs": [
    {
     "data": {
      "text/plain": [
       "8221"
      ]
     },
     "execution_count": 8,
     "metadata": {},
     "output_type": "execute_result"
    }
   ],
   "source": [
    "len(articles_searched_df[articles_searched_df['n_hashtags']==0])"
   ]
  },
  {
   "cell_type": "code",
   "execution_count": 9,
   "metadata": {
    "collapsed": false,
    "scrolled": false
   },
   "outputs": [
    {
     "name": "stdout",
     "output_type": "stream",
     "text": [
      "the number of unique hashtags is 5107\n"
     ]
    }
   ],
   "source": [
    "# count the unique hashtags\n",
    "set_of_all_hashtags = set([])\n",
    "for (i, a) in articles_searched_df.iterrows():\n",
    "    set_of_all_hashtags = set_of_all_hashtags | set(a[\"all_hashtags\"])\n",
    "    \n",
    "print(\"the number of unique hashtags is %d\" % len(set_of_all_hashtags))"
   ]
  },
  {
   "cell_type": "markdown",
   "metadata": {},
   "source": [
    "### Plot the distribution of recommended hashtags per article"
   ]
  },
  {
   "cell_type": "code",
   "execution_count": 10,
   "metadata": {
    "collapsed": false,
    "scrolled": true
   },
   "outputs": [
    {
     "data": {
      "image/png": "[encoded data removed]",
      "text/plain": [
       "<matplotlib.figure.Figure at 0x7f78d130efd0>"
      ]
     },
     "metadata": {},
     "output_type": "display_data"
    }
   ],
   "source": [
    "# histogram of n_hashtags\n",
    "n_bins = max(set(articles_searched_df[\"n_hashtags\"].tolist()))\n",
    "fig, ax = plt.subplots(figsize=(10, 5))\n",
    "# ax = articles_searched_df.hist(ax=ax, column=\"n_hashtags\", bins=n_bins)[0]\n",
    "counts, bins, patches = plt.hist(articles_searched_df[\"n_hashtags\"].tolist(), bins=(-0.5 + np.arange(n_bins + 2)))\n",
    "ax.set_yscale('log')\n",
    "# pl.gca().set_yscale(\"log\")\n",
    "pl.xticks(np.arange(0, n_bins + 1), size=14)\n",
    "pl.yticks(counts[::2], [int(c) for c in counts][::2], size=14)\n",
    "pl.xlim([-0.5, n_bins + 0.5])\n",
    "pl.ylim([0.5, 10000])\n",
    "pl.xlabel(\"Number of recommended hashtags.\", size=17)\n",
    "pl.ylabel(\"Number of articles.\", size=17)\n",
    "ax.yaxis.set_label_coords(-0.075, 0.55)\n",
    "pl.title(\"\")\n",
    "ax.set_axis_bgcolor((0.98, 0.98, 0.98))\n",
    "\n",
    "for rect, label in zip(patches, [str(int(c)) for c in counts]):\n",
    "    h = max(rect.get_height(), 1)\n",
    "    ax.text(\n",
    "        rect.get_x() + rect.get_width()/2, \n",
    "        h/max(7*np.log10(h)**2, 1.3), \n",
    "        label, \n",
    "        ha='center', \n",
    "        va='center', \n",
    "        rotation=90, \n",
    "        size=14,\n",
    "        color='white'\n",
    "    )\n",
    "\n",
    "# pos = np.arange(18)\n",
    "# ax.set_xticks(pos)\n",
    "fig.tight_layout()\n",
    "plt.savefig(\"hist_number_of_recommended_hashtags.pdf\", bbox_inches='tight', transparent=False, pad_inches=0)"
   ]
  },
  {
   "cell_type": "markdown",
   "metadata": {},
   "source": [
    "The plot abouve is the distribution of number of recommended hashtags per article in the full set of all (21,819 in May) articles from the given period. The hashtag count in the plot above includes also the spammy recommended hashtags."
   ]
  },
  {
   "cell_type": "markdown",
   "metadata": {},
   "source": [
    "### Export articles with their hashtags to a file"
   ]
  },
  {
   "cell_type": "raw",
   "metadata": {
    "collapsed": true
   },
   "source": [
    "articles_searched_df.to_csv(\n",
    "    csv_file_name + '.csv', \n",
    "    header=True, \n",
    "    index=True\n",
    ")"
   ]
  },
  {
   "cell_type": "markdown",
   "metadata": {
    "collapsed": true
   },
   "source": [
    " "
   ]
  },
  {
   "cell_type": "markdown",
   "metadata": {
    "collapsed": true
   },
   "source": [
    "<br>"
   ]
  },
  {
   "cell_type": "markdown",
   "metadata": {},
   "source": [
    "### Filter and export articles with their hashtags to a file for pattern mining"
   ]
  },
  {
   "cell_type": "code",
   "execution_count": 11,
   "metadata": {
    "collapsed": false
   },
   "outputs": [],
   "source": [
    "# export recommendations for pattern mining\n",
    "hashtag_blacklist = ['#news', '#business', '#breaking', '#politics',\n",
    "                         '#jobs', '#world', '#rt', '#sport', '#breakingnews', '#follow']\n",
    "with open('%s_nospam.txt' % (csv_file_name), 'w') as f:\n",
    "    for (i, a) in articles_searched_df[articles_searched_df['n_hashtags']>0].iterrows():\n",
    "        if len([h for h in a['all_hashtags'] if h not in hashtag_blacklist]) > 0:\n",
    "            f.write(\"%s\\n\" % \n",
    "                    (\n",
    "                    #i, \n",
    "                    #a['article_id'], \n",
    "                    #articles_df[articles_df['article_id']==toa['article_id']]['Source'], \n",
    "                    \",\".join([h for h in a['all_hashtags'] if h not in hashtag_blacklist])  # + a['keywords'].split(\", \").replace(\" \", \"_\"))\n",
    "                    )\n",
    "                   )"
   ]
  },
  {
   "cell_type": "markdown",
   "metadata": {
    "collapsed": true
   },
   "source": [
    "<br>"
   ]
  },
  {
   "cell_type": "markdown",
   "metadata": {
    "collapsed": true
   },
   "source": [
    "# Mine the patterns"
   ]
  },
  {
   "cell_type": "code",
   "execution_count": 12,
   "metadata": {
    "collapsed": false,
    "scrolled": true
   },
   "outputs": [
    {
     "name": "stdout",
     "output_type": "stream",
     "text": [
      "./eclat - find frequent item sets with the eclat algorithm\r\n",
      "version 5.13 (2016.04.09)        (c) 2002-2016   Christian Borgelt\r\n",
      "reading articles_2016.05.01-2016.05.31_nospam.txt ... [5097 item(s), 13270 transaction(s)] done [0.01s].\r\n",
      "filtering, sorting and recoding items ... [1134 item(s)] done [0.00s].\r\n",
      "sorting and reducing transactions ... [4401/13270 transaction(s)] done [0.00s].\r\n",
      "writing articles_2016.05.01-2016.05.31_nospam_eclat.out ... [6839 set(s)] done [0.00s].\r\n"
     ]
    }
   ],
   "source": [
    "# run ECLAT\n",
    "!./eclat -C \"%\" -f \",\" -s-5  $csv_file_name\"_nospam.txt\" $csv_file_name\"_nospam_eclat.out\""
   ]
  },
  {
   "cell_type": "markdown",
   "metadata": {},
   "source": [
    "<br>"
   ]
  },
  {
   "cell_type": "markdown",
   "metadata": {
    "collapsed": true
   },
   "source": [
    "# Load the patterns and do stuff"
   ]
  },
  {
   "cell_type": "code",
   "execution_count": 13,
   "metadata": {
    "collapsed": false
   },
   "outputs": [
    {
     "name": "stdout",
     "output_type": "stream",
     "text": [
      "read the patterns from 'articles_2016.05.01-2016.05.31_nospam_eclat.out' and produced a df of shape (6839, 5)\n"
     ]
    }
   ],
   "source": [
    "# load the patterns to pandas\n",
    "def product_func(row):\n",
    "    return row[0] * row[1]\n",
    "\n",
    "patterns_df = pd.read_csv(csv_file_name + \"_nospam_eclat.out\", sep=\"(\", header=None, names=[\"pattern\", \"support\"])\n",
    "\n",
    "patterns_df[\"pattern\"] = patterns_df[\"pattern\"].map(lambda x: x.strip())\n",
    "patterns_df[\"pattern_list\"] = patterns_df[\"pattern\"].map(lambda x: x.strip().split(\" \"))\n",
    "patterns_df[\"support\"] = patterns_df[\"support\"].map(lambda x: int(x.replace(\")\", \"\")))\n",
    "patterns_df[\"size\"] = patterns_df[\"pattern_list\"].map(lambda x: len(x))\n",
    "patterns_df[\"area\"] = patterns_df[[\"support\", \"size\"]].apply(product_func, axis=1)\n",
    "\n",
    "print(\"read the patterns from '%s_nospam_eclat.out' and produced a df of shape %s\" % (csv_file_name, patterns_df.shape))"
   ]
  },
  {
   "cell_type": "code",
   "execution_count": 14,
   "metadata": {
    "collapsed": false
   },
   "outputs": [],
   "source": [
    "# sort patterns by their area size\n",
    "patterns_df.sort_values(\"area\", axis=0, ascending=False, inplace=True, na_position='last')"
   ]
  },
  {
   "cell_type": "code",
   "execution_count": 15,
   "metadata": {
    "collapsed": false,
    "scrolled": true
   },
   "outputs": [
    {
     "data": {
      "text/plain": [
       "array([[<matplotlib.axes._subplots.AxesSubplot object at 0x7f78d0810dd8>]], dtype=object)"
      ]
     },
     "execution_count": 15,
     "metadata": {},
     "output_type": "execute_result"
    },
    {
     "data": {
      "image/png": "[encoded data removed]",
      "text/plain": [
       "<matplotlib.figure.Figure at 0x7f78d130e7f0>"
      ]
     },
     "metadata": {},
     "output_type": "display_data"
    }
   ],
   "source": [
    "# produce a plot of number of patterns based on their length\n",
    "patterns_df.hist(column=\"size\")"
   ]
  },
  {
   "cell_type": "code",
   "execution_count": 16,
   "metadata": {
    "collapsed": true
   },
   "outputs": [],
   "source": [
    "###################################\n",
    "\n",
    "use_partial = False\n",
    "partial_name_appendix = \"\"\n",
    "if use_partial:\n",
    "    # patterns_df = patterns_df.head(3500)\n",
    "    patterns_df = patterns_df[patterns_df[\"size\"] < 5]\n",
    "    partial_name_appendix = \"_partial\"\n",
    "\n",
    "###################################"
   ]
  },
  {
   "cell_type": "code",
   "execution_count": 17,
   "metadata": {
    "collapsed": false,
    "scrolled": true
   },
   "outputs": [
    {
     "name": "stdout",
     "output_type": "stream",
     "text": [
      "after filtering the shape of the dataframe is (6839, 5)\n"
     ]
    },
    {
     "data": {
      "text/html": [
       "<div>\n",
       "<table border=\"1\" class=\"dataframe\">\n",
       "  <thead>\n",
       "    <tr style=\"text-align: right;\">\n",
       "      <th></th>\n",
       "      <th>pattern</th>\n",
       "      <th>support</th>\n",
       "      <th>pattern_list</th>\n",
       "      <th>size</th>\n",
       "      <th>area</th>\n",
       "    </tr>\n",
       "  </thead>\n",
       "  <tbody>\n",
       "    <tr>\n",
       "      <th>0</th>\n",
       "      <td>#mufc</td>\n",
       "      <td>758</td>\n",
       "      <td>[#mufc]</td>\n",
       "      <td>1</td>\n",
       "      <td>758</td>\n",
       "    </tr>\n",
       "    <tr>\n",
       "      <th>6</th>\n",
       "      <td>#trump #trump2016</td>\n",
       "      <td>288</td>\n",
       "      <td>[#trump, #trump2016]</td>\n",
       "      <td>2</td>\n",
       "      <td>576</td>\n",
       "    </tr>\n",
       "    <tr>\n",
       "      <th>33</th>\n",
       "      <td>#nevertrump #trump #trump2016</td>\n",
       "      <td>170</td>\n",
       "      <td>[#nevertrump, #trump, #trump2016]</td>\n",
       "      <td>3</td>\n",
       "      <td>510</td>\n",
       "    </tr>\n",
       "    <tr>\n",
       "      <th>43</th>\n",
       "      <td>#trumptrain #trump2016 #trump</td>\n",
       "      <td>158</td>\n",
       "      <td>[#trumptrain, #trump2016, #trump]</td>\n",
       "      <td>3</td>\n",
       "      <td>474</td>\n",
       "    </tr>\n",
       "    <tr>\n",
       "      <th>45</th>\n",
       "      <td>#trumptrain #nevertrump #trump #trump2016</td>\n",
       "      <td>101</td>\n",
       "      <td>[#trumptrain, #nevertrump, #trump, #trump2016]</td>\n",
       "      <td>4</td>\n",
       "      <td>404</td>\n",
       "    </tr>\n",
       "    <tr>\n",
       "      <th>30</th>\n",
       "      <td>#nevertrump #trump2016</td>\n",
       "      <td>174</td>\n",
       "      <td>[#nevertrump, #trump2016]</td>\n",
       "      <td>2</td>\n",
       "      <td>348</td>\n",
       "    </tr>\n",
       "    <tr>\n",
       "      <th>1</th>\n",
       "      <td>#brexit</td>\n",
       "      <td>345</td>\n",
       "      <td>[#brexit]</td>\n",
       "      <td>1</td>\n",
       "      <td>345</td>\n",
       "    </tr>\n",
       "    <tr>\n",
       "      <th>34</th>\n",
       "      <td>#nevertrump #trump</td>\n",
       "      <td>171</td>\n",
       "      <td>[#nevertrump, #trump]</td>\n",
       "      <td>2</td>\n",
       "      <td>342</td>\n",
       "    </tr>\n",
       "    <tr>\n",
       "      <th>3</th>\n",
       "      <td>#trump2016</td>\n",
       "      <td>334</td>\n",
       "      <td>[#trump2016]</td>\n",
       "      <td>1</td>\n",
       "      <td>334</td>\n",
       "    </tr>\n",
       "    <tr>\n",
       "      <th>42</th>\n",
       "      <td>#trumptrain #trump</td>\n",
       "      <td>160</td>\n",
       "      <td>[#trumptrain, #trump]</td>\n",
       "      <td>2</td>\n",
       "      <td>320</td>\n",
       "    </tr>\n",
       "  </tbody>\n",
       "</table>\n",
       "</div>"
      ],
      "text/plain": [
       "                                      pattern  support  \\\n",
       "0                                       #mufc      758   \n",
       "6                           #trump #trump2016      288   \n",
       "33              #nevertrump #trump #trump2016      170   \n",
       "43              #trumptrain #trump2016 #trump      158   \n",
       "45  #trumptrain #nevertrump #trump #trump2016      101   \n",
       "30                     #nevertrump #trump2016      174   \n",
       "1                                     #brexit      345   \n",
       "34                         #nevertrump #trump      171   \n",
       "3                                  #trump2016      334   \n",
       "42                         #trumptrain #trump      160   \n",
       "\n",
       "                                      pattern_list  size  area  \n",
       "0                                          [#mufc]     1   758  \n",
       "6                             [#trump, #trump2016]     2   576  \n",
       "33               [#nevertrump, #trump, #trump2016]     3   510  \n",
       "43               [#trumptrain, #trump2016, #trump]     3   474  \n",
       "45  [#trumptrain, #nevertrump, #trump, #trump2016]     4   404  \n",
       "30                       [#nevertrump, #trump2016]     2   348  \n",
       "1                                        [#brexit]     1   345  \n",
       "34                           [#nevertrump, #trump]     2   342  \n",
       "3                                     [#trump2016]     1   334  \n",
       "42                           [#trumptrain, #trump]     2   320  "
      ]
     },
     "execution_count": 17,
     "metadata": {},
     "output_type": "execute_result"
    }
   ],
   "source": [
    "print(\"after filtering the shape of the dataframe is %s\" % str(patterns_df.shape))\n",
    "patterns_df.head(10)"
   ]
  },
  {
   "cell_type": "markdown",
   "metadata": {},
   "source": [
    "### find and populate the pattern children column\n",
    "\n",
    "The following cell is a slow-running cell."
   ]
  },
  {
   "cell_type": "code",
   "execution_count": 18,
   "metadata": {
    "collapsed": false,
    "scrolled": true
   },
   "outputs": [],
   "source": [
    "# find and populate the pattern children column\n",
    "\n",
    "patterns_df_copy = patterns_df.copy() # copy is created in order to not modify the df when iterating over it\n",
    "patterns_df[\"children_ids\"] = patterns_df[\"pattern_list\"]\n",
    "for (idx, p) in patterns_df_copy.iterrows():\n",
    "    # print(type(idx), type(p))\n",
    "    # print([ii for (ii, pp) in patterns_df_copy.iterrows() if set(p[\"pattern_list\"]).issubset(set(pp[\"pattern_list\"]))])\n",
    "    patterns_df.set_value(\n",
    "        idx, \n",
    "        \"children_ids\", \n",
    "        [\n",
    "            ii for (ii, pp) in patterns_df_copy[patterns_df_copy[\"size\"] == p[\"size\"] + 1].iterrows() \n",
    "            if set(p[\"pattern_list\"]).issubset(set(pp[\"pattern_list\"])) and ii != idx\n",
    "        ]\n",
    "    )\n",
    "    # patterns_df.loc[idx, \"children_ids\"] = [ii for (ii, pp) in patterns_df_copy.iterrows() if set(p[\"pattern_list\"]).issubset(set(pp[\"pattern_list\"]))]"
   ]
  },
  {
   "cell_type": "code",
   "execution_count": 19,
   "metadata": {
    "collapsed": false
   },
   "outputs": [],
   "source": [
    "# create n_children column\n",
    "patterns_df[\"n_children\"] = patterns_df[\"children_ids\"].map(lambda x: len(x))"
   ]
  },
  {
   "cell_type": "code",
   "execution_count": 20,
   "metadata": {
    "collapsed": false
   },
   "outputs": [
    {
     "data": {
      "text/plain": [
       "array([[<matplotlib.axes._subplots.AxesSubplot object at 0x7f78cc142550>]], dtype=object)"
      ]
     },
     "execution_count": 20,
     "metadata": {},
     "output_type": "execute_result"
    },
    {
     "data": {
      "image/png": "[encoded data removed]",
      "text/plain": [
       "<matplotlib.figure.Figure at 0x7f78d093f390>"
      ]
     },
     "metadata": {},
     "output_type": "display_data"
    }
   ],
   "source": [
    "patterns_df.hist(column=\"n_children\")"
   ]
  },
  {
   "cell_type": "code",
   "execution_count": 21,
   "metadata": {
    "collapsed": false
   },
   "outputs": [],
   "source": [
    "# export the patterns to CSV files\n",
    "\n",
    "patterns_df.to_csv(\n",
    "    csv_file_name.replace(\"articles_all\", \"patterns\") + partial_name_appendix + '.csv', \n",
    "    header=False, \n",
    "    index=True\n",
    ")\n",
    "patterns_df.to_csv(\n",
    "    csv_file_name.replace(\"articles_all\", \"patterns\") + partial_name_appendix + '_with_header.csv', \n",
    "    header=True, \n",
    "    index=True\n",
    ")"
   ]
  },
  {
   "cell_type": "markdown",
   "metadata": {},
   "source": [
    "### Create and export the json for the visualization\n",
    "\n",
    "This part will prepare the patterns for visualization. \n",
    "\n",
    "The following cell is a very slow-running cell."
   ]
  },
  {
   "cell_type": "code",
   "execution_count": null,
   "metadata": {
    "collapsed": true
   },
   "outputs": [],
   "source": [
    "def populate_children_dict(p, patterns_df):\n",
    "    list_of_children = []\n",
    "    for c in p[\"children_ids\"]:\n",
    "        child_pattern_parent_removed = \" \".join(list(set(patterns_df.loc[c][\"pattern_list\"]) - set(p[\"pattern_list\"])))\n",
    "        child = {\n",
    "            \"name\": child_pattern_parent_removed, \n",
    "            \"children\": [\n",
    "                {\n",
    "                    \"name\": child_pattern_parent_removed,  # patterns_df.loc[c][\"pattern\"], \n",
    "                    \"size\": int(patterns_df.loc[c][\"support\"])  # The issue is that my integers are actually type numpy.int64\n",
    "                }\n",
    "            ]\n",
    "        }\n",
    "        if patterns_df.loc[c][\"n_children\"] > 0:\n",
    "            child[\"children\"] = child[\"children\"] + populate_children_dict(patterns_df.loc[c], patterns_df)\n",
    "        list_of_children.append(child)\n",
    "    return list_of_children"
   ]
  },
  {
   "cell_type": "code",
   "execution_count": null,
   "metadata": {
    "collapsed": false
   },
   "outputs": [],
   "source": [
    "# export a json for plotting as here http://bl.ocks.org/mbostock/7607535\n",
    "\n",
    "patterns_dict = {\"name\": \"stories\", \"children\": []}\n",
    "\n",
    "for (i, p) in patterns_df[patterns_df[\"size\"]==1].iterrows():\n",
    "    singleton = {\n",
    "        \"name\": p[\"pattern\"], \n",
    "        \"children\": [\n",
    "            {\n",
    "                \"name\": \"__%s__\" % p[\"pattern\"], \n",
    "                \"size\": int(p[\"support\"])  # The issue is that my integers are actually type numpy.int64\n",
    "            }\n",
    "        ]\n",
    "    }\n",
    "    singleton[\"children\"] = singleton[\"children\"] + populate_children_dict(p, patterns_df)\n",
    "    patterns_dict[\"children\"].append(singleton)"
   ]
  },
  {
   "cell_type": "code",
   "execution_count": null,
   "metadata": {
    "collapsed": false
   },
   "outputs": [],
   "source": [
    "# export the dictionary of patterns to a json file\n",
    "with open(csv_file_name.replace(\"articles_all\", \"patterns\") + partial_name_appendix + '.json', 'w') as f:\n",
    "    json.dump(patterns_dict, f)"
   ]
  },
  {
   "cell_type": "code",
   "execution_count": null,
   "metadata": {
    "collapsed": true
   },
   "outputs": [],
   "source": []
  },
  {
   "cell_type": "code",
   "execution_count": null,
   "metadata": {
    "collapsed": true
   },
   "outputs": [],
   "source": []
  },
  {
   "cell_type": "code",
   "execution_count": null,
   "metadata": {
    "collapsed": true
   },
   "outputs": [],
   "source": []
  }
 ],
 "metadata": {
  "kernelspec": {
   "display_name": "Python 3",
   "language": "python",
   "name": "python3"
  },
  "language_info": {
   "codemirror_mode": {
    "name": "ipython",
    "version": 3
   },
   "file_extension": ".py",
   "mimetype": "text/x-python",
   "name": "python",
   "nbconvert_exporter": "python",
   "pygments_lexer": "ipython3",
   "version": "3.5.1"
  }
 },
 "nbformat": 4,
 "nbformat_minor": 0
}
